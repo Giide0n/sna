{
 "cells": [
  {
   "cell_type": "markdown",
   "metadata": {},
   "source": [
    "# Link prediction using examples from slides"
   ]
  },
  {
   "cell_type": "markdown",
   "metadata": {},
   "source": [
    "## Import libraries and define some auxiliary functions"
   ]
  },
  {
   "cell_type": "code",
   "execution_count": 4,
   "metadata": {
    "ExecuteTime": {
     "end_time": "2024-03-22T15:44:43.006917600Z",
     "start_time": "2024-03-22T15:44:42.806606900Z"
    }
   },
   "outputs": [],
   "source": [
    "import networkx as nx"
   ]
  },
  {
   "cell_type": "code",
   "execution_count": 5,
   "metadata": {
    "ExecuteTime": {
     "end_time": "2024-03-22T15:44:43.022696100Z",
     "start_time": "2024-03-22T15:44:43.006917600Z"
    }
   },
   "outputs": [],
   "source": [
    "def print_sorted_descending_by_value(predicted_edges):\n",
    "    \"\"\"\n",
    "    Takes a list of tuples and prints the tuples in ascending order according the 3rd element\n",
    "    \"\"\"\n",
    "    print(*sorted(predicted_edges, reverse=True, key=lambda tup: tup[2]), sep=\"\\n\")"
   ]
  },
  {
   "cell_type": "markdown",
   "metadata": {},
   "source": [
    "## Graph definition"
   ]
  },
  {
   "cell_type": "code",
   "execution_count": 7,
   "metadata": {
    "ExecuteTime": {
     "end_time": "2024-03-22T15:44:43.642331400Z",
     "start_time": "2024-03-22T15:44:43.023982400Z"
    }
   },
   "outputs": [
    {
     "data": {
      "image/png": "[encoded data removed]",
      "text/plain": [
       "<Figure size 640x480 with 1 Axes>"
      ]
     },
     "metadata": {},
     "output_type": "display_data"
    }
   ],
   "source": [
    "G = nx.Graph()\n",
    "G.add_nodes_from([\"A\", \"B\", \"C\", \"D\", \"E\", \"F\", \"G\", \"H\", \"I\"])\n",
    "G.add_edges_from([(\"A\", \"B\"), (\"A\", \"D\"), (\"A\", \"E\"), \n",
    "                  (\"B\", \"C\"), (\"B\", \"D\"),\n",
    "                  (\"C\", \"D\"), (\"C\", \"F\"), \n",
    "                  (\"E\", \"F\"),(\"E\", \"G\"),\n",
    "                  (\"F\", \"G\"),\n",
    "                  (\"G\", \"H\"),(\"G\", \"I\")])\n",
    "\n",
    "nx.draw_networkx(G, node_color=\"lightblue\")"
   ]
  },
  {
   "cell_type": "markdown",
   "metadata": {},
   "source": [
    "## Preferential Attachment"
   ]
  },
  {
   "cell_type": "code",
   "execution_count": 9,
   "metadata": {
    "ExecuteTime": {
     "end_time": "2024-03-22T15:44:43.699322200Z",
     "start_time": "2024-03-22T15:44:43.643434100Z"
    }
   },
   "outputs": [
    {
     "name": "stdout",
     "output_type": "stream",
     "text": [
      "('G', 'D', 12)\n",
      "('G', 'A', 12)\n",
      "('G', 'C', 12)\n",
      "('G', 'B', 12)\n",
      "('E', 'C', 9)\n",
      "('E', 'D', 9)\n",
      "('E', 'B', 9)\n",
      "('A', 'C', 9)\n",
      "('A', 'F', 9)\n",
      "('F', 'D', 9)\n",
      "('F', 'B', 9)\n",
      "('E', 'H', 3)\n",
      "('E', 'I', 3)\n",
      "('A', 'H', 3)\n",
      "('A', 'I', 3)\n",
      "('F', 'I', 3)\n",
      "('F', 'H', 3)\n",
      "('C', 'I', 3)\n",
      "('C', 'H', 3)\n",
      "('H', 'D', 3)\n",
      "('H', 'B', 3)\n",
      "('I', 'D', 3)\n",
      "('I', 'B', 3)\n",
      "('H', 'I', 1)\n"
     ]
    }
   ],
   "source": [
    "pref_attachment = list(nx.preferential_attachment(G))\n",
    "print_sorted_descending_by_value(pref_attachment)"
   ]
  },
  {
   "cell_type": "markdown",
   "metadata": {},
   "source": [
    "## Common Neighbours\n",
    "There is no common neighbours function that calculates the number of common neighbours for all unconnected node pairs. But there is a common_neighbours method which takes two node arguments and returns the number of neighbours. So we just need to create a list of node of all unconnected node pairs by hand and call the common neighbours method for each pair."
   ]
  },
  {
   "cell_type": "code",
   "execution_count": 11,
   "metadata": {
    "ExecuteTime": {
     "end_time": "2024-03-22T15:44:43.700368300Z",
     "start_time": "2024-03-22T15:44:43.661829500Z"
    }
   },
   "outputs": [
    {
     "name": "stdout",
     "output_type": "stream",
     "text": [
      "[('A', 'C'), ('A', 'F'), ('A', 'G'), ('A', 'H'), ('A', 'I'), ('B', 'E'), ('B', 'F'), ('B', 'G'), ('B', 'H'), ('B', 'I'), ('C', 'E'), ('C', 'G'), ('C', 'H'), ('C', 'I'), ('D', 'E'), ('D', 'F'), ('D', 'G'), ('D', 'H'), ('D', 'I'), ('E', 'H'), ('E', 'I'), ('F', 'H'), ('F', 'I'), ('H', 'I')]\n"
     ]
    }
   ],
   "source": [
    "all_nodes = list(G.nodes())\n",
    "all_unconnected_pairs = []\n",
    "for i in range(0, len(all_nodes)):\n",
    "    for j in range(i+1, len(all_nodes)):\n",
    "        first = all_nodes[i]\n",
    "        second = all_nodes[j]\n",
    "        if not G.has_edge(first, second):\n",
    "            all_unconnected_pairs.append((first, second))\n",
    "print(all_unconnected_pairs)"
   ]
  },
  {
   "cell_type": "markdown",
   "metadata": {},
   "source": [
    "Hint: The code snipped above could also be written using list comprehensions in three code-lines:\n",
    "```python\n",
    "nodes = list(G.nodes())\n",
    "all_unconnected_pairs = [(nodes[i], nodes[j]) for i in range(0, len(nodes)) for j in range (i+1, len(nodes)) if not G.has_edge(nodes[i], nodes[j])]\n",
    "print(all_unconnected_pairs)\n",
    "```"
   ]
  },
  {
   "cell_type": "code",
   "execution_count": 13,
   "metadata": {
    "ExecuteTime": {
     "end_time": "2024-03-22T15:44:43.700462600Z",
     "start_time": "2024-03-22T15:44:43.673176500Z"
    }
   },
   "outputs": [
    {
     "name": "stdout",
     "output_type": "stream",
     "text": [
      "('A', 'C', 2)\n",
      "('A', 'F', 1)\n",
      "('A', 'G', 1)\n",
      "('B', 'E', 1)\n",
      "('B', 'F', 1)\n",
      "('C', 'E', 1)\n",
      "('C', 'G', 1)\n",
      "('D', 'E', 1)\n",
      "('D', 'F', 1)\n",
      "('E', 'H', 1)\n",
      "('E', 'I', 1)\n",
      "('F', 'H', 1)\n",
      "('F', 'I', 1)\n",
      "('H', 'I', 1)\n",
      "('A', 'H', 0)\n",
      "('A', 'I', 0)\n",
      "('B', 'G', 0)\n",
      "('B', 'H', 0)\n",
      "('B', 'I', 0)\n",
      "('C', 'H', 0)\n",
      "('C', 'I', 0)\n",
      "('D', 'G', 0)\n",
      "('D', 'H', 0)\n",
      "('D', 'I', 0)\n"
     ]
    }
   ],
   "source": [
    "common_neighbours = [(u, v, len(list(nx.common_neighbors(G, u, v)))) for (u, v) in all_unconnected_pairs]\n",
    "print_sorted_descending_by_value(common_neighbours)"
   ]
  },
  {
   "cell_type": "markdown",
   "metadata": {},
   "source": [
    "## Jaccard Similarity"
   ]
  },
  {
   "cell_type": "code",
   "execution_count": 15,
   "metadata": {
    "ExecuteTime": {
     "end_time": "2024-03-22T15:44:43.778427700Z",
     "start_time": "2024-03-22T15:44:43.688444300Z"
    }
   },
   "outputs": [
    {
     "name": "stdout",
     "output_type": "stream",
     "text": [
      "('H', 'I', 1.0)\n",
      "('A', 'C', 0.5)\n",
      "('E', 'H', 0.3333333333333333)\n",
      "('E', 'I', 0.3333333333333333)\n",
      "('F', 'I', 0.3333333333333333)\n",
      "('F', 'H', 0.3333333333333333)\n",
      "('E', 'C', 0.2)\n",
      "('E', 'D', 0.2)\n",
      "('E', 'B', 0.2)\n",
      "('A', 'F', 0.2)\n",
      "('F', 'D', 0.2)\n",
      "('F', 'B', 0.2)\n",
      "('G', 'A', 0.16666666666666666)\n",
      "('G', 'C', 0.16666666666666666)\n",
      "('G', 'D', 0.0)\n",
      "('G', 'B', 0.0)\n",
      "('A', 'H', 0.0)\n",
      "('A', 'I', 0.0)\n",
      "('C', 'I', 0.0)\n",
      "('C', 'H', 0.0)\n",
      "('H', 'D', 0.0)\n",
      "('H', 'B', 0.0)\n",
      "('I', 'D', 0.0)\n",
      "('I', 'B', 0.0)\n"
     ]
    }
   ],
   "source": [
    "jaccard = list(nx.jaccard_coefficient(G))\n",
    "print_sorted_descending_by_value(jaccard)"
   ]
  },
  {
   "cell_type": "markdown",
   "metadata": {},
   "source": [
    "## Resource Allocation"
   ]
  },
  {
   "cell_type": "code",
   "execution_count": 17,
   "metadata": {
    "ExecuteTime": {
     "end_time": "2024-03-22T15:44:43.779601Z",
     "start_time": "2024-03-22T15:44:43.705018200Z"
    }
   },
   "outputs": [
    {
     "name": "stdout",
     "output_type": "stream",
     "text": [
      "('A', 'C', 0.6666666666666666)\n",
      "('E', 'C', 0.3333333333333333)\n",
      "('E', 'D', 0.3333333333333333)\n",
      "('E', 'B', 0.3333333333333333)\n",
      "('G', 'A', 0.3333333333333333)\n",
      "('G', 'C', 0.3333333333333333)\n",
      "('A', 'F', 0.3333333333333333)\n",
      "('F', 'D', 0.3333333333333333)\n",
      "('F', 'B', 0.3333333333333333)\n",
      "('E', 'H', 0.25)\n",
      "('E', 'I', 0.25)\n",
      "('F', 'I', 0.25)\n",
      "('F', 'H', 0.25)\n",
      "('H', 'I', 0.25)\n",
      "('G', 'D', 0)\n",
      "('G', 'B', 0)\n",
      "('A', 'H', 0)\n",
      "('A', 'I', 0)\n",
      "('C', 'I', 0)\n",
      "('C', 'H', 0)\n",
      "('H', 'D', 0)\n",
      "('H', 'B', 0)\n",
      "('I', 'D', 0)\n",
      "('I', 'B', 0)\n"
     ]
    }
   ],
   "source": [
    "resource_allocation = list(nx.resource_allocation_index(G))\n",
    "print_sorted_descending_by_value(resource_allocation)"
   ]
  },
  {
   "cell_type": "markdown",
   "metadata": {},
   "source": [
    "## Adamic Adar"
   ]
  },
  {
   "cell_type": "code",
   "execution_count": 19,
   "metadata": {
    "ExecuteTime": {
     "end_time": "2024-03-22T15:44:43.832665900Z",
     "start_time": "2024-03-22T15:44:43.720791200Z"
    }
   },
   "outputs": [
    {
     "name": "stdout",
     "output_type": "stream",
     "text": [
      "('A', 'C', 1.8204784532536746)\n",
      "('E', 'C', 0.9102392266268373)\n",
      "('E', 'D', 0.9102392266268373)\n",
      "('E', 'B', 0.9102392266268373)\n",
      "('G', 'A', 0.9102392266268373)\n",
      "('G', 'C', 0.9102392266268373)\n",
      "('A', 'F', 0.9102392266268373)\n",
      "('F', 'D', 0.9102392266268373)\n",
      "('F', 'B', 0.9102392266268373)\n",
      "('E', 'H', 0.7213475204444817)\n",
      "('E', 'I', 0.7213475204444817)\n",
      "('F', 'I', 0.7213475204444817)\n",
      "('F', 'H', 0.7213475204444817)\n",
      "('H', 'I', 0.7213475204444817)\n",
      "('G', 'D', 0)\n",
      "('G', 'B', 0)\n",
      "('A', 'H', 0)\n",
      "('A', 'I', 0)\n",
      "('C', 'I', 0)\n",
      "('C', 'H', 0)\n",
      "('H', 'D', 0)\n",
      "('H', 'B', 0)\n",
      "('I', 'D', 0)\n",
      "('I', 'B', 0)\n"
     ]
    }
   ],
   "source": [
    "adamic = list(nx.adamic_adar_index(G))\n",
    "print_sorted_descending_by_value(adamic)"
   ]
  },
  {
   "cell_type": "markdown",
   "metadata": {},
   "source": [
    "## Soundarajan Hopcroft"
   ]
  },
  {
   "cell_type": "code",
   "execution_count": 21,
   "metadata": {
    "ExecuteTime": {
     "end_time": "2024-03-22T15:44:43.833842200Z",
     "start_time": "2024-03-22T15:44:43.737726200Z"
    }
   },
   "outputs": [
    {
     "name": "stdout",
     "output_type": "stream",
     "text": [
      "{'A': 1, 'B': 1, 'C': 1, 'D': 1, 'E': 0, 'F': 0, 'G': 0, 'H': 0, 'I': 0}\n",
      "('A', 'C', 4)\n",
      "('E', 'H', 2)\n",
      "('E', 'I', 2)\n",
      "('F', 'I', 2)\n",
      "('F', 'H', 2)\n",
      "('H', 'I', 2)\n",
      "('E', 'C', 1)\n",
      "('E', 'D', 1)\n",
      "('E', 'B', 1)\n",
      "('G', 'A', 1)\n",
      "('G', 'C', 1)\n",
      "('A', 'F', 1)\n",
      "('F', 'D', 1)\n",
      "('F', 'B', 1)\n",
      "('G', 'D', 0)\n",
      "('G', 'B', 0)\n",
      "('A', 'H', 0)\n",
      "('A', 'I', 0)\n",
      "('C', 'I', 0)\n",
      "('C', 'H', 0)\n",
      "('H', 'D', 0)\n",
      "('H', 'B', 0)\n",
      "('I', 'D', 0)\n",
      "('I', 'B', 0)\n"
     ]
    }
   ],
   "source": [
    "import community\n",
    "partition = community.best_partition(G)\n",
    "print(partition)\n",
    "\n",
    "for node, community in partition.items():\n",
    "        G.nodes[node]['community'] = community\n",
    "        \n",
    "soundarajan = list(nx.cn_soundarajan_hopcroft(G))\n",
    "print_sorted_descending_by_value(soundarajan)"
   ]
  }
 ],
 "metadata": {
  "kernelspec": {
   "display_name": "Python 3 (ipykernel)",
   "language": "python",
   "name": "python3"
  },
  "language_info": {
   "codemirror_mode": {
    "name": "ipython",
    "version": 3
   },
   "file_extension": ".py",
   "mimetype": "text/x-python",
   "name": "python",
   "nbconvert_exporter": "python",
   "pygments_lexer": "ipython3",
   "version": "3.12.3"
  }
 },
 "nbformat": 4,
 "nbformat_minor": 4
}
