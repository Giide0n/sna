{
 "cells": [
  {
   "cell_type": "code",
   "execution_count": null,
   "metadata": {},
   "outputs": [],
   "source": [
    "import numpy as np\n",
    "import networkx as nx\n",
    "import pandas as pd\n",
    "\n",
    "%matplotlib inline"
   ]
  },
  {
   "cell_type": "markdown",
   "metadata": {},
   "source": [
    "## Use Sample Florentine networkx included in networkx"
   ]
  },
  {
   "cell_type": "code",
   "execution_count": null,
   "metadata": {},
   "outputs": [],
   "source": [
    "florentine_net = nx.florentine_families_graph()"
   ]
  },
  {
   "cell_type": "code",
   "execution_count": null,
   "metadata": {},
   "outputs": [],
   "source": [
    "nx.draw(florentine_net)"
   ]
  },
  {
   "cell_type": "markdown",
   "metadata": {},
   "source": [
    "## Update nodes with external wealth information"
   ]
  },
  {
   "cell_type": "code",
   "execution_count": null,
   "metadata": {},
   "outputs": [],
   "source": [
    "wealth = pd.read_csv('../data/PadgettAttrib.csv')\n",
    "wealth"
   ]
  },
  {
   "cell_type": "code",
   "execution_count": null,
   "metadata": {},
   "outputs": [],
   "source": [
    "def append_wealth_to_graph(node, wealth):\n",
    "    florentine_net.nodes[node.capitalize()]['wealth'] = wealth"
   ]
  },
  {
   "cell_type": "code",
   "execution_count": null,
   "metadata": {},
   "outputs": [],
   "source": [
    "for node, familywealth in zip(wealth['id'], wealth['WEALTH']):\n",
    "    if node != \"PUCCI\":\n",
    "        append_wealth_to_graph(node, familywealth)"
   ]
  },
  {
   "cell_type": "code",
   "execution_count": null,
   "metadata": {},
   "outputs": [],
   "source": [
    "florentine_net.nodes(data=True)"
   ]
  },
  {
   "cell_type": "markdown",
   "metadata": {},
   "source": [
    "## Calculate node centralities\n",
    "In the end those centralities will be correlated with the wealth information"
   ]
  },
  {
   "cell_type": "code",
   "execution_count": null,
   "metadata": {},
   "outputs": [],
   "source": [
    "centralities = dict()\n",
    "centralities['eigenvector'] = nx.eigenvector_centrality(florentine_net)\n",
    "centralities['degree'] = nx.degree_centrality(florentine_net)\n",
    "centralities['betweenness'] = nx.betweenness_centrality(florentine_net)\n",
    "centralities['closeness'] = nx.closeness_centrality(florentine_net)"
   ]
  },
  {
   "cell_type": "code",
   "execution_count": null,
   "metadata": {},
   "outputs": [],
   "source": [
    "node_list = list(florentine_net.nodes('wealth'))\n",
    "wealths = [w for n, w in node_list]"
   ]
  },
  {
   "cell_type": "code",
   "execution_count": null,
   "metadata": {},
   "outputs": [],
   "source": [
    "npa_wealth = np.asarray(wealths) "
   ]
  },
  {
   "cell_type": "markdown",
   "metadata": {},
   "source": [
    "## Execute permutation tests\n",
    "Looking for significant pearson correlations between wealth and centrality measures. A p-value <= 0.05 will be considered as significant. In that case the p-value has to be interpreted as one-tailed."
   ]
  },
  {
   "cell_type": "code",
   "execution_count": null,
   "metadata": {},
   "outputs": [],
   "source": [
    "random_generator = np.random.RandomState(42)"
   ]
  },
  {
   "cell_type": "code",
   "execution_count": null,
   "metadata": {},
   "outputs": [],
   "source": [
    "def permutation_test_pearson_correlation(x_original, y_original, num_rounds=20000):\n",
    "    \"\"\"\n",
    "    Permutation test checking pearson correlation\n",
    "    -------------\n",
    "    x_original : First numpy array\n",
    "    y_original : Second numpy array\n",
    "    num_rounds : int (default: 20'000)\n",
    "        The number of permutations.\n",
    "    Returns\n",
    "    ----------\n",
    "    tuple (initial reference correlation, p-value)\n",
    "    \"\"\"\n",
    "    \n",
    "    x = np.copy(x_original)\n",
    "    y = np.copy(y_original)\n",
    "    \n",
    "    # TODO: Implement permutation test here (see parameters and return value in docstring)\n",
    "    # Hint: For pearson correlation coefficient use: np.corrcoef(x, y)[1][0]"
   ]
  },
  {
   "cell_type": "code",
   "execution_count": null,
   "metadata": {},
   "outputs": [],
   "source": [
    "for name, centrality in centralities.items():\n",
    "    x = np.array(list(centrality.values())) \n",
    "    y = npa_wealth\n",
    "    \n",
    "    corr, p_val = permutation_test_pearson_correlation(x, y)\n",
    "    \n",
    "    print(f'Observed correlation of wealth and centrality using {name} was {corr} with a p-value of {p_val}')"
   ]
  },
  {
   "cell_type": "markdown",
   "metadata": {},
   "source": [
    "## Result\n",
    "TODO: Interpret the result"
   ]
  }
 ],
 "metadata": {
  "kernelspec": {
   "display_name": "Python 3",
   "language": "python",
   "name": "python3"
  },
  "language_info": {
   "codemirror_mode": {
    "name": "ipython",
    "version": 3
   },
   "file_extension": ".py",
   "mimetype": "text/x-python",
   "name": "python",
   "nbconvert_exporter": "python",
   "pygments_lexer": "ipython3",
   "version": "3.7.7"
  }
 },
 "nbformat": 4,
 "nbformat_minor": 4
}
